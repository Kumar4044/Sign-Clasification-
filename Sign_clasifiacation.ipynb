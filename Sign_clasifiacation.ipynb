{
  "metadata": {
    "kernelspec": {
      "language": "python",
      "display_name": "Python 3",
      "name": "python3"
    },
    "language_info": {
      "name": "python",
      "version": "3.6.6",
      "mimetype": "text/x-python",
      "codemirror_mode": {
        "name": "ipython",
        "version": 3
      },
      "pygments_lexer": "ipython3",
      "nbconvert_exporter": "python",
      "file_extension": ".py"
    },
    "kaggle": {
      "accelerator": "gpu",
      "dataSources": [
        {
          "sourceId": 5337,
          "sourceType": "datasetVersion",
          "datasetId": 3258
        }
      ],
      "dockerImageVersionId": 29867,
      "isInternetEnabled": false,
      "language": "python",
      "sourceType": "notebook",
      "isGpuEnabled": true
    },
    "colab": {
      "provenance": []
    }
  },
  "nbformat_minor": 0,
  "nbformat": 4,
  "cells": [
    {
      "cell_type": "markdown",
      "source": [
        "# **American Sign Language Recognition Using CNN**\n",
        "\n",
        "Communication is an important part of our lives. Deaf and dumb people being unable to speak and listen, experience a lot of problems while communicating with normal people. There are many ways by which people with these disabilities try to communicate. One of the most prominent ways is the use of sign language, i.e. hand gestures. It is necessary to develop an application for recognizing gestures and actions of sign language so that deaf and dumb people can communicate easily with even those who don’t understand sign language. The objective of this work is to take an elementary step in breaking the barrier in communication between the normal people and deaf and dumb people with the help of sign language.\n",
        "\n",
        "American Sign Language (ASL) is a complete, natural language that has the same linguistic properties as spoken languages, with grammar that differs from English. ASL is expressed by movements of the hands and face. It is the primary language of many North Americans who are deaf and hard of hearing, and is used by many hearing people as well.\n",
        "![![NIDCD-ASL-hands-2019.jpg](attachment:NIDCD-ASL-hands-2019.jpg)]\n",
        "\n"
      ],
      "metadata": {
        "id": "d4ukiL3PxBly"
      }
    },
    {
      "cell_type": "code",
      "source": [
        "# This Python 3 environment comes with many helpful analytics libraries installed\n",
        "# It is defined by the kaggle/python docker image: https://github.com/kaggle/docker-python\n",
        "# For example, here's several helpful packages to load in\n",
        "\n",
        "import numpy as np # linear algebra\n",
        "import pandas as pd # data processing, CSV file I/O (e.g. pd.read_csv)\n",
        "\n",
        "# Input data files are available in the \"../input/\" directory.\n",
        "# For example, running this (by clicking run or pressing Shift+Enter) will list all files under the input directory\n",
        "\n",
        "import os\n",
        "for dirname, _, filenames in os.walk('/kaggle/input'):\n",
        "    for filename in filenames:\n",
        "        print(os.path.join(dirname, filename))\n",
        "\n",
        "# Any results you write to the current directory are saved as output."
      ],
      "metadata": {
        "_uuid": "8f2839f25d086af736a60e9eeb907d3b93b6e0e5",
        "_cell_guid": "b1076dfc-b9ad-4769-8c92-a6c4dae69d19",
        "execution": {
          "iopub.status.busy": "2024-01-06T19:32:46.697773Z",
          "iopub.execute_input": "2024-01-06T19:32:46.698270Z",
          "iopub.status.idle": "2024-01-06T19:32:46.708865Z",
          "shell.execute_reply.started": "2024-01-06T19:32:46.698208Z",
          "shell.execute_reply": "2024-01-06T19:32:46.707926Z"
        },
        "trusted": true,
        "id": "X36Ki9mHxBl0"
      },
      "execution_count": null,
      "outputs": []
    },
    {
      "cell_type": "markdown",
      "source": [
        "#  **Importing Important Packages**"
      ],
      "metadata": {
        "id": "bjA4_KOnxBl1"
      }
    },
    {
      "cell_type": "code",
      "source": [
        "import keras\n",
        "from keras.models import Sequential\n",
        "from keras.layers import Dense,Flatten,Conv2D,MaxPool2D,Dropout\n",
        "import matplotlib.pyplot as plt\n",
        "import seaborn as sns\n",
        "from tensorflow.keras.preprocessing.image import ImageDataGenerator"
      ],
      "metadata": {
        "execution": {
          "iopub.status.busy": "2024-01-06T19:32:46.710887Z",
          "iopub.execute_input": "2024-01-06T19:32:46.711154Z",
          "iopub.status.idle": "2024-01-06T19:32:46.719076Z",
          "shell.execute_reply.started": "2024-01-06T19:32:46.711125Z",
          "shell.execute_reply": "2024-01-06T19:32:46.718207Z"
        },
        "trusted": true,
        "id": "ZGXayFz4xBl2"
      },
      "execution_count": null,
      "outputs": []
    },
    {
      "cell_type": "markdown",
      "source": [
        "# **Loading and Preprocessing the dataset**\n",
        "The dataset format is patterned to match closely with the classic MNIST. Each training and test case represents a label (0-25) as a one-to-one map for each alphabetic letter A-Z (and no cases for 9=J or 25=Z because of gesture motions). The training data (27,455 cases) and test data (7172 cases) are approximately half the size of the standard MNIST handwritten digit dataset but otherwise similar with a header row of label, pixel1,pixel2….pixel784 which represent a single 28x28 pixel image with grayscale values between 0-255.\n"
      ],
      "metadata": {
        "id": "5ZMVJGvRxBl2"
      }
    },
    {
      "cell_type": "code",
      "source": [
        "train_df=pd.read_csv('/kaggle/input/sign-language-mnist/sign_mnist_train.csv')\n",
        "test_df=pd.read_csv('/kaggle/input/sign-language-mnist/sign_mnist_test.csv')"
      ],
      "metadata": {
        "_uuid": "d629ff2d2480ee46fbb7e2d37f6b5fab8052498a",
        "_cell_guid": "79c7e3d0-c299-4dcb-8224-4455121ee9b0",
        "execution": {
          "iopub.status.busy": "2024-01-06T19:32:46.720295Z",
          "iopub.execute_input": "2024-01-06T19:32:46.720520Z",
          "iopub.status.idle": "2024-01-06T19:32:50.465002Z",
          "shell.execute_reply.started": "2024-01-06T19:32:46.720495Z",
          "shell.execute_reply": "2024-01-06T19:32:50.464182Z"
        },
        "trusted": true,
        "id": "BXl_1O-rxBl2",
        "outputId": "1845a72c-23bf-4c42-b14e-0c9c7a8da72f",
        "colab": {
          "base_uri": "https://localhost:8080/",
          "height": 311
        }
      },
      "execution_count": null,
      "outputs": [
        {
          "output_type": "error",
          "ename": "FileNotFoundError",
          "evalue": "[Errno 2] No such file or directory: '/kaggle/input/sign-language-mnist/sign_mnist_train.csv'",
          "traceback": [
            "\u001b[0;31m---------------------------------------------------------------------------\u001b[0m",
            "\u001b[0;31mFileNotFoundError\u001b[0m                         Traceback (most recent call last)",
            "\u001b[0;32m<ipython-input-3-412fac106a9a>\u001b[0m in \u001b[0;36m<cell line: 1>\u001b[0;34m()\u001b[0m\n\u001b[0;32m----> 1\u001b[0;31m \u001b[0mtrain_df\u001b[0m\u001b[0;34m=\u001b[0m\u001b[0mpd\u001b[0m\u001b[0;34m.\u001b[0m\u001b[0mread_csv\u001b[0m\u001b[0;34m(\u001b[0m\u001b[0;34m'/kaggle/input/sign-language-mnist/sign_mnist_train.csv'\u001b[0m\u001b[0;34m)\u001b[0m\u001b[0;34m\u001b[0m\u001b[0;34m\u001b[0m\u001b[0m\n\u001b[0m\u001b[1;32m      2\u001b[0m \u001b[0mtest_df\u001b[0m\u001b[0;34m=\u001b[0m\u001b[0mpd\u001b[0m\u001b[0;34m.\u001b[0m\u001b[0mread_csv\u001b[0m\u001b[0;34m(\u001b[0m\u001b[0;34m'/kaggle/input/sign-language-mnist/sign_mnist_test.csv'\u001b[0m\u001b[0;34m)\u001b[0m\u001b[0;34m\u001b[0m\u001b[0;34m\u001b[0m\u001b[0m\n",
            "\u001b[0;32m/usr/local/lib/python3.10/dist-packages/pandas/util/_decorators.py\u001b[0m in \u001b[0;36mwrapper\u001b[0;34m(*args, **kwargs)\u001b[0m\n\u001b[1;32m    209\u001b[0m                 \u001b[0;32melse\u001b[0m\u001b[0;34m:\u001b[0m\u001b[0;34m\u001b[0m\u001b[0;34m\u001b[0m\u001b[0m\n\u001b[1;32m    210\u001b[0m                     \u001b[0mkwargs\u001b[0m\u001b[0;34m[\u001b[0m\u001b[0mnew_arg_name\u001b[0m\u001b[0;34m]\u001b[0m \u001b[0;34m=\u001b[0m \u001b[0mnew_arg_value\u001b[0m\u001b[0;34m\u001b[0m\u001b[0;34m\u001b[0m\u001b[0m\n\u001b[0;32m--> 211\u001b[0;31m             \u001b[0;32mreturn\u001b[0m \u001b[0mfunc\u001b[0m\u001b[0;34m(\u001b[0m\u001b[0;34m*\u001b[0m\u001b[0margs\u001b[0m\u001b[0;34m,\u001b[0m \u001b[0;34m**\u001b[0m\u001b[0mkwargs\u001b[0m\u001b[0;34m)\u001b[0m\u001b[0;34m\u001b[0m\u001b[0;34m\u001b[0m\u001b[0m\n\u001b[0m\u001b[1;32m    212\u001b[0m \u001b[0;34m\u001b[0m\u001b[0m\n\u001b[1;32m    213\u001b[0m         \u001b[0;32mreturn\u001b[0m \u001b[0mcast\u001b[0m\u001b[0;34m(\u001b[0m\u001b[0mF\u001b[0m\u001b[0;34m,\u001b[0m \u001b[0mwrapper\u001b[0m\u001b[0;34m)\u001b[0m\u001b[0;34m\u001b[0m\u001b[0;34m\u001b[0m\u001b[0m\n",
            "\u001b[0;32m/usr/local/lib/python3.10/dist-packages/pandas/util/_decorators.py\u001b[0m in \u001b[0;36mwrapper\u001b[0;34m(*args, **kwargs)\u001b[0m\n\u001b[1;32m    329\u001b[0m                     \u001b[0mstacklevel\u001b[0m\u001b[0;34m=\u001b[0m\u001b[0mfind_stack_level\u001b[0m\u001b[0;34m(\u001b[0m\u001b[0;34m)\u001b[0m\u001b[0;34m,\u001b[0m\u001b[0;34m\u001b[0m\u001b[0;34m\u001b[0m\u001b[0m\n\u001b[1;32m    330\u001b[0m                 )\n\u001b[0;32m--> 331\u001b[0;31m             \u001b[0;32mreturn\u001b[0m \u001b[0mfunc\u001b[0m\u001b[0;34m(\u001b[0m\u001b[0;34m*\u001b[0m\u001b[0margs\u001b[0m\u001b[0;34m,\u001b[0m \u001b[0;34m**\u001b[0m\u001b[0mkwargs\u001b[0m\u001b[0;34m)\u001b[0m\u001b[0;34m\u001b[0m\u001b[0;34m\u001b[0m\u001b[0m\n\u001b[0m\u001b[1;32m    332\u001b[0m \u001b[0;34m\u001b[0m\u001b[0m\n\u001b[1;32m    333\u001b[0m         \u001b[0;31m# error: \"Callable[[VarArg(Any), KwArg(Any)], Any]\" has no\u001b[0m\u001b[0;34m\u001b[0m\u001b[0;34m\u001b[0m\u001b[0m\n",
            "\u001b[0;32m/usr/local/lib/python3.10/dist-packages/pandas/io/parsers/readers.py\u001b[0m in \u001b[0;36mread_csv\u001b[0;34m(filepath_or_buffer, sep, delimiter, header, names, index_col, usecols, squeeze, prefix, mangle_dupe_cols, dtype, engine, converters, true_values, false_values, skipinitialspace, skiprows, skipfooter, nrows, na_values, keep_default_na, na_filter, verbose, skip_blank_lines, parse_dates, infer_datetime_format, keep_date_col, date_parser, dayfirst, cache_dates, iterator, chunksize, compression, thousands, decimal, lineterminator, quotechar, quoting, doublequote, escapechar, comment, encoding, encoding_errors, dialect, error_bad_lines, warn_bad_lines, on_bad_lines, delim_whitespace, low_memory, memory_map, float_precision, storage_options)\u001b[0m\n\u001b[1;32m    948\u001b[0m     \u001b[0mkwds\u001b[0m\u001b[0;34m.\u001b[0m\u001b[0mupdate\u001b[0m\u001b[0;34m(\u001b[0m\u001b[0mkwds_defaults\u001b[0m\u001b[0;34m)\u001b[0m\u001b[0;34m\u001b[0m\u001b[0;34m\u001b[0m\u001b[0m\n\u001b[1;32m    949\u001b[0m \u001b[0;34m\u001b[0m\u001b[0m\n\u001b[0;32m--> 950\u001b[0;31m     \u001b[0;32mreturn\u001b[0m \u001b[0m_read\u001b[0m\u001b[0;34m(\u001b[0m\u001b[0mfilepath_or_buffer\u001b[0m\u001b[0;34m,\u001b[0m \u001b[0mkwds\u001b[0m\u001b[0;34m)\u001b[0m\u001b[0;34m\u001b[0m\u001b[0;34m\u001b[0m\u001b[0m\n\u001b[0m\u001b[1;32m    951\u001b[0m \u001b[0;34m\u001b[0m\u001b[0m\n\u001b[1;32m    952\u001b[0m \u001b[0;34m\u001b[0m\u001b[0m\n",
            "\u001b[0;32m/usr/local/lib/python3.10/dist-packages/pandas/io/parsers/readers.py\u001b[0m in \u001b[0;36m_read\u001b[0;34m(filepath_or_buffer, kwds)\u001b[0m\n\u001b[1;32m    603\u001b[0m \u001b[0;34m\u001b[0m\u001b[0m\n\u001b[1;32m    604\u001b[0m     \u001b[0;31m# Create the parser.\u001b[0m\u001b[0;34m\u001b[0m\u001b[0;34m\u001b[0m\u001b[0m\n\u001b[0;32m--> 605\u001b[0;31m     \u001b[0mparser\u001b[0m \u001b[0;34m=\u001b[0m \u001b[0mTextFileReader\u001b[0m\u001b[0;34m(\u001b[0m\u001b[0mfilepath_or_buffer\u001b[0m\u001b[0;34m,\u001b[0m \u001b[0;34m**\u001b[0m\u001b[0mkwds\u001b[0m\u001b[0;34m)\u001b[0m\u001b[0;34m\u001b[0m\u001b[0;34m\u001b[0m\u001b[0m\n\u001b[0m\u001b[1;32m    606\u001b[0m \u001b[0;34m\u001b[0m\u001b[0m\n\u001b[1;32m    607\u001b[0m     \u001b[0;32mif\u001b[0m \u001b[0mchunksize\u001b[0m \u001b[0;32mor\u001b[0m \u001b[0miterator\u001b[0m\u001b[0;34m:\u001b[0m\u001b[0;34m\u001b[0m\u001b[0;34m\u001b[0m\u001b[0m\n",
            "\u001b[0;32m/usr/local/lib/python3.10/dist-packages/pandas/io/parsers/readers.py\u001b[0m in \u001b[0;36m__init__\u001b[0;34m(self, f, engine, **kwds)\u001b[0m\n\u001b[1;32m   1440\u001b[0m \u001b[0;34m\u001b[0m\u001b[0m\n\u001b[1;32m   1441\u001b[0m         \u001b[0mself\u001b[0m\u001b[0;34m.\u001b[0m\u001b[0mhandles\u001b[0m\u001b[0;34m:\u001b[0m \u001b[0mIOHandles\u001b[0m \u001b[0;34m|\u001b[0m \u001b[0;32mNone\u001b[0m \u001b[0;34m=\u001b[0m \u001b[0;32mNone\u001b[0m\u001b[0;34m\u001b[0m\u001b[0;34m\u001b[0m\u001b[0m\n\u001b[0;32m-> 1442\u001b[0;31m         \u001b[0mself\u001b[0m\u001b[0;34m.\u001b[0m\u001b[0m_engine\u001b[0m \u001b[0;34m=\u001b[0m \u001b[0mself\u001b[0m\u001b[0;34m.\u001b[0m\u001b[0m_make_engine\u001b[0m\u001b[0;34m(\u001b[0m\u001b[0mf\u001b[0m\u001b[0;34m,\u001b[0m \u001b[0mself\u001b[0m\u001b[0;34m.\u001b[0m\u001b[0mengine\u001b[0m\u001b[0;34m)\u001b[0m\u001b[0;34m\u001b[0m\u001b[0;34m\u001b[0m\u001b[0m\n\u001b[0m\u001b[1;32m   1443\u001b[0m \u001b[0;34m\u001b[0m\u001b[0m\n\u001b[1;32m   1444\u001b[0m     \u001b[0;32mdef\u001b[0m \u001b[0mclose\u001b[0m\u001b[0;34m(\u001b[0m\u001b[0mself\u001b[0m\u001b[0;34m)\u001b[0m \u001b[0;34m->\u001b[0m \u001b[0;32mNone\u001b[0m\u001b[0;34m:\u001b[0m\u001b[0;34m\u001b[0m\u001b[0;34m\u001b[0m\u001b[0m\n",
            "\u001b[0;32m/usr/local/lib/python3.10/dist-packages/pandas/io/parsers/readers.py\u001b[0m in \u001b[0;36m_make_engine\u001b[0;34m(self, f, engine)\u001b[0m\n\u001b[1;32m   1733\u001b[0m                 \u001b[0;32mif\u001b[0m \u001b[0;34m\"b\"\u001b[0m \u001b[0;32mnot\u001b[0m \u001b[0;32min\u001b[0m \u001b[0mmode\u001b[0m\u001b[0;34m:\u001b[0m\u001b[0;34m\u001b[0m\u001b[0;34m\u001b[0m\u001b[0m\n\u001b[1;32m   1734\u001b[0m                     \u001b[0mmode\u001b[0m \u001b[0;34m+=\u001b[0m \u001b[0;34m\"b\"\u001b[0m\u001b[0;34m\u001b[0m\u001b[0;34m\u001b[0m\u001b[0m\n\u001b[0;32m-> 1735\u001b[0;31m             self.handles = get_handle(\n\u001b[0m\u001b[1;32m   1736\u001b[0m                 \u001b[0mf\u001b[0m\u001b[0;34m,\u001b[0m\u001b[0;34m\u001b[0m\u001b[0;34m\u001b[0m\u001b[0m\n\u001b[1;32m   1737\u001b[0m                 \u001b[0mmode\u001b[0m\u001b[0;34m,\u001b[0m\u001b[0;34m\u001b[0m\u001b[0;34m\u001b[0m\u001b[0m\n",
            "\u001b[0;32m/usr/local/lib/python3.10/dist-packages/pandas/io/common.py\u001b[0m in \u001b[0;36mget_handle\u001b[0;34m(path_or_buf, mode, encoding, compression, memory_map, is_text, errors, storage_options)\u001b[0m\n\u001b[1;32m    854\u001b[0m         \u001b[0;32mif\u001b[0m \u001b[0mioargs\u001b[0m\u001b[0;34m.\u001b[0m\u001b[0mencoding\u001b[0m \u001b[0;32mand\u001b[0m \u001b[0;34m\"b\"\u001b[0m \u001b[0;32mnot\u001b[0m \u001b[0;32min\u001b[0m \u001b[0mioargs\u001b[0m\u001b[0;34m.\u001b[0m\u001b[0mmode\u001b[0m\u001b[0;34m:\u001b[0m\u001b[0;34m\u001b[0m\u001b[0;34m\u001b[0m\u001b[0m\n\u001b[1;32m    855\u001b[0m             \u001b[0;31m# Encoding\u001b[0m\u001b[0;34m\u001b[0m\u001b[0;34m\u001b[0m\u001b[0m\n\u001b[0;32m--> 856\u001b[0;31m             handle = open(\n\u001b[0m\u001b[1;32m    857\u001b[0m                 \u001b[0mhandle\u001b[0m\u001b[0;34m,\u001b[0m\u001b[0;34m\u001b[0m\u001b[0;34m\u001b[0m\u001b[0m\n\u001b[1;32m    858\u001b[0m                 \u001b[0mioargs\u001b[0m\u001b[0;34m.\u001b[0m\u001b[0mmode\u001b[0m\u001b[0;34m,\u001b[0m\u001b[0;34m\u001b[0m\u001b[0;34m\u001b[0m\u001b[0m\n",
            "\u001b[0;31mFileNotFoundError\u001b[0m: [Errno 2] No such file or directory: '/kaggle/input/sign-language-mnist/sign_mnist_train.csv'"
          ]
        }
      ]
    },
    {
      "cell_type": "code",
      "source": [
        "train_df.info()"
      ],
      "metadata": {
        "execution": {
          "iopub.status.busy": "2024-01-06T19:32:50.466313Z",
          "iopub.execute_input": "2024-01-06T19:32:50.466552Z",
          "iopub.status.idle": "2024-01-06T19:32:50.537762Z",
          "shell.execute_reply.started": "2024-01-06T19:32:50.466526Z",
          "shell.execute_reply": "2024-01-06T19:32:50.537149Z"
        },
        "trusted": true,
        "id": "YVmmLkgxxBl2"
      },
      "execution_count": null,
      "outputs": []
    },
    {
      "cell_type": "code",
      "source": [
        "test_df.info()"
      ],
      "metadata": {
        "execution": {
          "iopub.status.busy": "2024-01-06T19:32:50.540844Z",
          "iopub.execute_input": "2024-01-06T19:32:50.541081Z",
          "iopub.status.idle": "2024-01-06T19:32:50.608836Z",
          "shell.execute_reply.started": "2024-01-06T19:32:50.541053Z",
          "shell.execute_reply": "2024-01-06T19:32:50.608187Z"
        },
        "trusted": true,
        "id": "qmJB8ci-xBl3"
      },
      "execution_count": null,
      "outputs": []
    },
    {
      "cell_type": "code",
      "source": [
        "train_df.describe()"
      ],
      "metadata": {
        "execution": {
          "iopub.status.busy": "2024-01-06T19:32:50.611309Z",
          "iopub.execute_input": "2024-01-06T19:32:50.611573Z",
          "iopub.status.idle": "2024-01-06T19:32:53.245686Z",
          "shell.execute_reply.started": "2024-01-06T19:32:50.611545Z",
          "shell.execute_reply": "2024-01-06T19:32:53.245011Z"
        },
        "trusted": true,
        "id": "wCqOoVp_xBl3"
      },
      "execution_count": null,
      "outputs": []
    },
    {
      "cell_type": "code",
      "source": [
        "train_df.head(6)"
      ],
      "metadata": {
        "execution": {
          "iopub.status.busy": "2024-01-06T19:32:53.247076Z",
          "iopub.execute_input": "2024-01-06T19:32:53.247335Z",
          "iopub.status.idle": "2024-01-06T19:32:53.267466Z",
          "shell.execute_reply.started": "2024-01-06T19:32:53.247307Z",
          "shell.execute_reply": "2024-01-06T19:32:53.266817Z"
        },
        "trusted": true,
        "id": "4qiPjS3UxBl3"
      },
      "execution_count": null,
      "outputs": []
    },
    {
      "cell_type": "markdown",
      "source": [
        "The train_df dataset consit of 1st column representing labels 1 to 24.\n",
        "The label is loaded in a seperate dataframe called 'train_label' and the 'label' column is dropped from the original training dataframe which now consist of only 784 pixel values for each image."
      ],
      "metadata": {
        "id": "oRo66GxLxBl4"
      }
    },
    {
      "cell_type": "code",
      "source": [
        "train_label=train_df['label']\n",
        "train_label.head()\n",
        "trainset=train_df.drop(['label'],axis=1)\n",
        "trainset.head()"
      ],
      "metadata": {
        "execution": {
          "iopub.status.busy": "2024-01-06T19:32:53.268824Z",
          "iopub.execute_input": "2024-01-06T19:32:53.269122Z",
          "iopub.status.idle": "2024-01-06T19:32:53.344921Z",
          "shell.execute_reply.started": "2024-01-06T19:32:53.269072Z",
          "shell.execute_reply": "2024-01-06T19:32:53.344176Z"
        },
        "trusted": true,
        "id": "CYjwCZ6QxBl4"
      },
      "execution_count": null,
      "outputs": []
    },
    {
      "cell_type": "markdown",
      "source": [
        "Converting the dataframe to numpy array type to be used while training the CNN.\n",
        "The array is converted from  1-D to 3-D which is the required input to the first layer of the CNN.\n",
        "Similar preprocessing is done to the test dataframe."
      ],
      "metadata": {
        "id": "zrjzKuS1xBl4"
      }
    },
    {
      "cell_type": "code",
      "source": [
        "X_train = trainset.values\n",
        "X_train = trainset.values.reshape(-1,28,28,1)\n",
        "print(X_train.shape)"
      ],
      "metadata": {
        "execution": {
          "iopub.status.busy": "2024-01-06T19:32:53.346532Z",
          "iopub.execute_input": "2024-01-06T19:32:53.346778Z",
          "iopub.status.idle": "2024-01-06T19:32:53.353460Z",
          "shell.execute_reply.started": "2024-01-06T19:32:53.346751Z",
          "shell.execute_reply": "2024-01-06T19:32:53.352778Z"
        },
        "trusted": true,
        "id": "TSVT2O6CxBl4"
      },
      "execution_count": null,
      "outputs": []
    },
    {
      "cell_type": "code",
      "source": [
        "test_label=test_df['label']\n",
        "X_test=test_df.drop(['label'],axis=1)\n",
        "print(X_test.shape)\n",
        "X_test.head()"
      ],
      "metadata": {
        "execution": {
          "iopub.status.busy": "2024-01-06T19:32:53.354881Z",
          "iopub.execute_input": "2024-01-06T19:32:53.355236Z",
          "iopub.status.idle": "2024-01-06T19:32:53.392161Z",
          "shell.execute_reply.started": "2024-01-06T19:32:53.355182Z",
          "shell.execute_reply": "2024-01-06T19:32:53.391315Z"
        },
        "trusted": true,
        "id": "-aXJMz63xBl4"
      },
      "execution_count": null,
      "outputs": []
    },
    {
      "cell_type": "markdown",
      "source": [
        "**Converting the integer labels to binary form**\n",
        "\n",
        "The label dataframe consist of single values from 1 to 24 for each individual picture. The CNN output layer will be of 24 nodes since it has 24 different labels as a multi label classifier. Hence each integer is encoded in a binary array of size 24 with the corresponding label being 1 and all other labels are 0. Such as if y=4 the the array is [0 0 0 1 0 0.....0].\n",
        "The LabelBinarizer package from sklearn.preprocessing is used for that. The document link is https://scikit-learn.org/stable/modules/generated/sklearn.preprocessing.LabelBinarizer.html"
      ],
      "metadata": {
        "id": "ERHEU7D9xBl5"
      }
    },
    {
      "cell_type": "code",
      "source": [
        "from sklearn.preprocessing import LabelBinarizer\n",
        "lb=LabelBinarizer()\n",
        "y_train=lb.fit_transform(train_label)\n",
        "y_test=lb.fit_transform(test_label)"
      ],
      "metadata": {
        "execution": {
          "iopub.status.busy": "2024-01-06T19:32:53.393697Z",
          "iopub.execute_input": "2024-01-06T19:32:53.393983Z",
          "iopub.status.idle": "2024-01-06T19:32:53.454472Z",
          "shell.execute_reply.started": "2024-01-06T19:32:53.393948Z",
          "shell.execute_reply": "2024-01-06T19:32:53.453847Z"
        },
        "trusted": true,
        "id": "4v-VS7ntxBl5"
      },
      "execution_count": null,
      "outputs": []
    },
    {
      "cell_type": "code",
      "source": [
        "y_train"
      ],
      "metadata": {
        "execution": {
          "iopub.status.busy": "2024-01-06T19:32:53.455466Z",
          "iopub.execute_input": "2024-01-06T19:32:53.455668Z",
          "iopub.status.idle": "2024-01-06T19:32:53.460833Z",
          "shell.execute_reply.started": "2024-01-06T19:32:53.455645Z",
          "shell.execute_reply": "2024-01-06T19:32:53.460106Z"
        },
        "trusted": true,
        "id": "j0IAhIWOxBl5"
      },
      "execution_count": null,
      "outputs": []
    },
    {
      "cell_type": "code",
      "source": [
        "X_test=X_test.values.reshape(-1,28,28,1)"
      ],
      "metadata": {
        "execution": {
          "iopub.status.busy": "2024-01-06T19:32:53.461858Z",
          "iopub.execute_input": "2024-01-06T19:32:53.462075Z",
          "iopub.status.idle": "2024-01-06T19:32:53.468971Z",
          "shell.execute_reply.started": "2024-01-06T19:32:53.462051Z",
          "shell.execute_reply": "2024-01-06T19:32:53.468341Z"
        },
        "trusted": true,
        "id": "_CMHaZKixBl5"
      },
      "execution_count": null,
      "outputs": []
    },
    {
      "cell_type": "code",
      "source": [
        "print(X_train.shape,y_train.shape,X_test.shape,y_test.shape)"
      ],
      "metadata": {
        "execution": {
          "iopub.status.busy": "2024-01-06T19:32:53.469868Z",
          "iopub.execute_input": "2024-01-06T19:32:53.470109Z",
          "iopub.status.idle": "2024-01-06T19:32:53.479030Z",
          "shell.execute_reply.started": "2024-01-06T19:32:53.470055Z",
          "shell.execute_reply": "2024-01-06T19:32:53.478348Z"
        },
        "trusted": true,
        "id": "sD0ZMgscxBl5"
      },
      "execution_count": null,
      "outputs": []
    },
    {
      "cell_type": "markdown",
      "source": [
        "**Augmenting the image dataset to generate new data**\n",
        "\n",
        "ImageDataGenerator package from keras.preprocessing.image allows to add different distortions to image dataset by providing random rotation, zoom in/out , height or width scaling etc to images pixel by pixel.\n",
        "\n",
        "Here is the package details https://keras.io/preprocessing/image/\n",
        "\n",
        "The image dataset in also normalised here using the rescale parameter which divides each pixel by 255 such that the pixel values range between 0 to 1."
      ],
      "metadata": {
        "id": "xui8A0slxBl5"
      }
    },
    {
      "cell_type": "code",
      "source": [
        "train_datagen = ImageDataGenerator(rescale = 1./255,\n",
        "                                  rotation_range = 0,\n",
        "                                  height_shift_range=0.2,\n",
        "                                  width_shift_range=0.2,\n",
        "                                  shear_range=0,\n",
        "                                  zoom_range=0.2,\n",
        "                                  horizontal_flip=True,\n",
        "                                  fill_mode='nearest')\n",
        "\n",
        "X_test=X_test/255"
      ],
      "metadata": {
        "execution": {
          "iopub.status.busy": "2024-01-06T19:32:53.480325Z",
          "iopub.execute_input": "2024-01-06T19:32:53.480624Z",
          "iopub.status.idle": "2024-01-06T19:32:53.509799Z",
          "shell.execute_reply.started": "2024-01-06T19:32:53.480590Z",
          "shell.execute_reply": "2024-01-06T19:32:53.509183Z"
        },
        "trusted": true,
        "id": "VE0vx9LfxBl5"
      },
      "execution_count": null,
      "outputs": []
    },
    {
      "cell_type": "markdown",
      "source": [
        "# **Visualization of the Dataset**"
      ],
      "metadata": {
        "id": "SDBiaHwYxBl5"
      }
    },
    {
      "cell_type": "markdown",
      "source": [
        "**Preview of the images in the training dataset**"
      ],
      "metadata": {
        "id": "HEz78k-KxBl5"
      }
    },
    {
      "cell_type": "code",
      "source": [
        "fig,axe=plt.subplots(2,2)\n",
        "fig.suptitle('Preview of dataset')\n",
        "axe[0,0].imshow(X_train[0].reshape(28,28),cmap='gray')\n",
        "axe[0,0].set_title('label: 3  letter: C')\n",
        "axe[0,1].imshow(X_train[1].reshape(28,28),cmap='gray')\n",
        "axe[0,1].set_title('label: 6  letter: F')\n",
        "axe[1,0].imshow(X_train[2].reshape(28,28),cmap='gray')\n",
        "axe[1,0].set_title('label: 2  letter: B')\n",
        "axe[1,1].imshow(X_train[4].reshape(28,28),cmap='gray')\n",
        "axe[1,1].set_title('label: 13  letter: M')"
      ],
      "metadata": {
        "execution": {
          "iopub.status.busy": "2024-01-06T19:32:53.511062Z",
          "iopub.execute_input": "2024-01-06T19:32:53.511393Z",
          "iopub.status.idle": "2024-01-06T19:32:53.963011Z",
          "shell.execute_reply.started": "2024-01-06T19:32:53.511356Z",
          "shell.execute_reply": "2024-01-06T19:32:53.962350Z"
        },
        "trusted": true,
        "id": "sIwdy_jlxBl5"
      },
      "execution_count": null,
      "outputs": []
    },
    {
      "cell_type": "markdown",
      "source": [
        "**Frequency plot of the labels**"
      ],
      "metadata": {
        "id": "9YD5DQ4WxBl5"
      }
    },
    {
      "cell_type": "code",
      "source": [
        "sns.countplot(train_label)\n",
        "plt.title(\"Frequency of each label\")"
      ],
      "metadata": {
        "execution": {
          "iopub.status.busy": "2024-01-06T19:32:53.964299Z",
          "iopub.execute_input": "2024-01-06T19:32:53.964509Z",
          "iopub.status.idle": "2024-01-06T19:32:54.227930Z",
          "shell.execute_reply.started": "2024-01-06T19:32:53.964484Z",
          "shell.execute_reply": "2024-01-06T19:32:54.227315Z"
        },
        "trusted": true,
        "id": "Op1PBUssxBl6"
      },
      "execution_count": null,
      "outputs": []
    },
    {
      "cell_type": "markdown",
      "source": [
        "# **Building the CNN Model**\n",
        "\n",
        "The model consist of :\n",
        "1. Three convolution layer each followed bt MaxPooling for better feature capture\n",
        "2. A dense layer of 512 units\n",
        "3. The output layer with 24 units for 24 different classes"
      ],
      "metadata": {
        "id": "q9SOSFV3xBl6"
      }
    },
    {
      "cell_type": "markdown",
      "source": [
        "**Convolution layers**\n",
        "\n",
        "Conv layer 1 -- UNITS - 128  KERNEL SIZE - 5 * 5   STRIDE LENGTH - 1   ACTIVATION - ReLu\n",
        "\n",
        "Conv layer 2 -- UNITS - 64   KERNEL SIZE - 3 * 3   STRIDE LENGTH - 1   ACTIVATION - ReLu\n",
        "\n",
        "Conv layer 3 -- UNITS - 32   KERNEL SIZE - 2 * 2   STRIDE LENGTH - 1   ACTIVATION - ReLu\n",
        "\n",
        "\n",
        "\n",
        "\n",
        "MaxPool layer 1 -- MAX POOL WINDOW - 3 * 3   STRIDE - 2\n",
        "\n",
        "MaxPool layer 2 -- MAX POOL WINDOW - 2 * 2   STRIDE - 2\n",
        "\n",
        "MaxPool layer 3 -- MAX POOL WINDOW - 2 * 2   STRIDE - 2"
      ],
      "metadata": {
        "id": "ejZV-yhcxBl6"
      }
    },
    {
      "cell_type": "code",
      "source": [
        "model=Sequential()\n",
        "model.add(Conv2D(128,kernel_size=(5,5),\n",
        "                 strides=1,padding='same',activation='relu',input_shape=(28,28,1)))\n",
        "model.add(MaxPool2D(pool_size=(3,3),strides=2,padding='same'))\n",
        "model.add(Conv2D(64,kernel_size=(2,2),\n",
        "                strides=1,activation='relu',padding='same'))\n",
        "model.add(MaxPool2D((2,2),2,padding='same'))\n",
        "model.add(Conv2D(32,kernel_size=(2,2),\n",
        "                strides=1,activation='relu',padding='same'))\n",
        "model.add(MaxPool2D((2,2),2,padding='same'))\n",
        "\n",
        "model.add(Flatten())"
      ],
      "metadata": {
        "execution": {
          "iopub.status.busy": "2024-01-06T19:32:54.229173Z",
          "iopub.execute_input": "2024-01-06T19:32:54.229405Z",
          "iopub.status.idle": "2024-01-06T19:32:56.606232Z",
          "shell.execute_reply.started": "2024-01-06T19:32:54.229379Z",
          "shell.execute_reply": "2024-01-06T19:32:56.605544Z"
        },
        "trusted": true,
        "id": "R5KgvH3lxBl6"
      },
      "execution_count": null,
      "outputs": []
    },
    {
      "cell_type": "markdown",
      "source": [
        "**Dense and output layers**"
      ],
      "metadata": {
        "id": "l7FjPmDexBl6"
      }
    },
    {
      "cell_type": "code",
      "source": [
        "model.add(Dense(units=512,activation='relu'))\n",
        "model.add(Dropout(rate=0.25))\n",
        "model.add(Dense(units=24,activation='softmax'))\n",
        "model.summary()\n"
      ],
      "metadata": {
        "execution": {
          "iopub.status.busy": "2024-01-06T19:32:56.607330Z",
          "iopub.execute_input": "2024-01-06T19:32:56.607569Z",
          "iopub.status.idle": "2024-01-06T19:32:56.659595Z",
          "shell.execute_reply.started": "2024-01-06T19:32:56.607544Z",
          "shell.execute_reply": "2024-01-06T19:32:56.658921Z"
        },
        "trusted": true,
        "id": "me1cE4-3xBl6"
      },
      "execution_count": null,
      "outputs": []
    },
    {
      "cell_type": "code",
      "source": [
        "model.compile(optimizer='adam',loss='categorical_crossentropy',metrics=['accuracy'])"
      ],
      "metadata": {
        "execution": {
          "iopub.status.busy": "2024-01-06T19:32:56.660805Z",
          "iopub.execute_input": "2024-01-06T19:32:56.661032Z",
          "iopub.status.idle": "2024-01-06T19:32:56.710382Z",
          "shell.execute_reply.started": "2024-01-06T19:32:56.661006Z",
          "shell.execute_reply": "2024-01-06T19:32:56.709630Z"
        },
        "trusted": true,
        "id": "ZoI-W42FxBl6"
      },
      "execution_count": null,
      "outputs": []
    },
    {
      "cell_type": "markdown",
      "source": [
        "**Training the model**"
      ],
      "metadata": {
        "id": "lPs0IB6RxBl6"
      }
    },
    {
      "cell_type": "code",
      "source": [
        " histery = model.fit(train_datagen.flow(X_train,y_train,batch_size=200),\n",
        "         epochs = 35,\n",
        "          validation_data=(X_test,y_test),\n",
        "          shuffle=1\n",
        "         )"
      ],
      "metadata": {
        "execution": {
          "iopub.status.busy": "2024-01-06T19:38:54.388848Z",
          "iopub.execute_input": "2024-01-06T19:38:54.389152Z",
          "iopub.status.idle": "2024-01-06T19:42:55.342269Z",
          "shell.execute_reply.started": "2024-01-06T19:38:54.389125Z",
          "shell.execute_reply": "2024-01-06T19:42:55.340611Z"
        },
        "trusted": true,
        "id": "bqGuaWysxBl6"
      },
      "execution_count": null,
      "outputs": []
    },
    {
      "cell_type": "markdown",
      "source": [
        "**Evaluating the model**"
      ],
      "metadata": {
        "id": "s0RrdQ_KxBl7"
      }
    },
    {
      "cell_type": "code",
      "source": [
        "(ls,acc)=model.evaluate(x=X_test,y=y_test)"
      ],
      "metadata": {
        "execution": {
          "iopub.status.busy": "2024-01-06T19:43:02.402616Z",
          "iopub.execute_input": "2024-01-06T19:43:02.402884Z",
          "iopub.status.idle": "2024-01-06T19:43:02.920201Z",
          "shell.execute_reply.started": "2024-01-06T19:43:02.402859Z",
          "shell.execute_reply": "2024-01-06T19:43:02.919517Z"
        },
        "trusted": true,
        "id": "0ZiDilNYxBl7"
      },
      "execution_count": null,
      "outputs": []
    },
    {
      "cell_type": "code",
      "source": [
        "print('MODEL ACCURACY = {}%'.format(acc*100))"
      ],
      "metadata": {
        "execution": {
          "iopub.status.busy": "2024-01-06T19:43:06.930025Z",
          "iopub.execute_input": "2024-01-06T19:43:06.930336Z",
          "iopub.status.idle": "2024-01-06T19:43:06.935571Z",
          "shell.execute_reply.started": "2024-01-06T19:43:06.930306Z",
          "shell.execute_reply": "2024-01-06T19:43:06.934567Z"
        },
        "trusted": true,
        "id": "qRJHRSlPxBl7"
      },
      "execution_count": null,
      "outputs": []
    },
    {
      "cell_type": "code",
      "source": [
        "h = histery\n",
        "\n",
        "# plot the loss value\n",
        "plt.plot(h.history['loss'], label='train loss')\n",
        "plt.plot(h.history['val_loss'], label='validation loss')\n",
        "plt.legend()\n",
        "plt.show()\n",
        "\n",
        "# plot the accuracy value\n",
        "plt.plot(h.history['accuracy'], label='train accuracy')\n",
        "plt.plot(h.history['val_accuracy'], label='validation accuracy')\n",
        "plt.legend()\n",
        "plt.show()\n",
        "\n",
        "\n",
        "\n",
        "\n",
        "\n",
        "\n",
        "\n"
      ],
      "metadata": {
        "execution": {
          "iopub.status.busy": "2024-01-06T19:44:32.322963Z",
          "iopub.execute_input": "2024-01-06T19:44:32.323295Z",
          "iopub.status.idle": "2024-01-06T19:44:32.653033Z",
          "shell.execute_reply.started": "2024-01-06T19:44:32.323261Z",
          "shell.execute_reply": "2024-01-06T19:44:32.652315Z"
        },
        "trusted": true,
        "id": "jkjSFSW5xBl7"
      },
      "execution_count": null,
      "outputs": []
    }
  ]
}